{
 "cells": [
  {
   "cell_type": "markdown",
   "id": "e73630d9",
   "metadata": {},
   "source": [
    "# Quant Course: Lecture 6\n",
    "\n",
    "\n"
   ]
  },
  {
   "cell_type": "markdown",
   "id": "73423803",
   "metadata": {},
   "source": [
    "## Option Pricing by PDE\n",
    "\n",
    "<b>Goal of option pricing via PDE:<b>\n",
    "\n",
    "* Use the Black Scholes PDE to price European Contract\n",
    "* Use  different discretization scheme to achieve better results\n",
    "* Compare the solution to the Analytical Pricer\n",
    "\n",
    "\n",
    "<b>Extension<b>\n",
    "* Calculate Greeks based on the different Schemes\n",
    "* Extend PDE pricing scheme to Forward and American contracts<b>"
   ]
  },
  {
   "cell_type": "markdown",
   "id": "4b44fab1",
   "metadata": {},
   "source": [
    "# Steps to achieve our Objectives\n",
    "* Create Market Model\n",
    "* Create European Contract using market inputs (underlying, Call/Put, Long/Short, strike, expiry)\n",
    "* Create PDEParams. What Parameters do we need?\n",
    "* Create EuropeanPDEPricer. What inputs do we need into this pricer?\n",
    "* Calculate FV\n",
    "* Visualize the Call and Put prices in 2D and 3D"
   ]
  },
  {
   "cell_type": "code",
   "execution_count": null,
   "id": "d852295c",
   "metadata": {},
   "outputs": [],
   "source": [
    "# Add current folder and QuantCourseBP folder to syspath to import modules\n",
    "import sys\n",
    "from pathlib import Path\n",
    "import numpy as np\n",
    "import matplotlib.pyplot as plt\n",
    "\n",
    "current = Path(Path().resolve())\n",
    "sys.path.append(str(current))\n",
    "sys.path.append(str(current.parents[1]))\n",
    "\n",
    "from src.enums import *\n",
    "from src.utils import *\n",
    "from src.market_data import *\n",
    "from src.pricer import *\n",
    "# Make charts interactive\n",
    "%matplotlib notebook\n",
    "\n",
    "# Initialize market data\n",
    "MarketData.initialize()"
   ]
  },
  {
   "cell_type": "markdown",
   "id": "e6a55854-19de-44e6-8092-ab65c93ec9f8",
   "metadata": {},
   "source": [
    "# Utility function"
   ]
  },
  {
   "cell_type": "code",
   "execution_count": null,
   "id": "7b445d7e-4060-42d3-9cc2-ee6150a296c4",
   "metadata": {},
   "outputs": [],
   "source": [
    "\"\"\"The pricing function of European call option\"\"\"\n",
    "def black_scholes_eur_call(spot, time_to_mat,sigma, strike, rate):\n",
    "    d1_vec = ( np.log( spot / strike ) + ( rate + 0.5 * sigma**2 ) * time_to_mat ) / ( sigma * time_to_mat**0.5 )\n",
    "    d2_vec = d1_vec - sigma * time_to_mat**0.5\n",
    "\n",
    "    N_d1_vec = norm.cdf(d1_vec)\n",
    "    N_d2_vec = norm.cdf(d2_vec)\n",
    "\n",
    "    return N_d1_vec * spot - strike * np.exp((-1.0)*rate*time_to_mat) * N_d2_vec"
   ]
  },
  {
   "cell_type": "markdown",
   "id": "3d79e478-f3ec-4413-962d-fe0c08759c2c",
   "metadata": {},
   "source": [
    "# Create Test Example Contracts"
   ]
  },
  {
   "cell_type": "code",
   "execution_count": null,
   "id": "13a9b0e1",
   "metadata": {},
   "outputs": [],
   "source": [
    "und = Stock.TEST_COMPANY\n",
    "expiry = 2.0\n",
    "strike = 0.95 * MarketData.get_spot()[und]\n",
    "ls = LongShort.LONG"
   ]
  },
  {
   "cell_type": "code",
   "execution_count": null,
   "id": "74021d63",
   "metadata": {},
   "outputs": [],
   "source": [
    "derivative_type = [PutCallFwd.CALL, PutCallFwd.CALL,PutCallFwd.PUT,PutCallFwd.PUT]\n",
    "model_types = [BSVolModel(und), FlatVolModel(und), BSVolModel(und), FlatVolModel(und)]\n",
    "\n",
    "contract_list=[]\n",
    "analytical_pricer_list= []\n",
    "for i in range(len(derivative_type)):\n",
    "    contract = EuropeanContract(und, derivative_type[i], ls, strike, expiry)\n",
    "    contract_list.append(contract)\n",
    "    pricer = EuropeanAnalyticPricer(contract, model_types[i], Params())\n",
    "    analytical_pricer_list.append(pricer.calc_fair_value())\n",
    "\n",
    "print(f\"FairValues:{analytical_pricer_list}\")"
   ]
  },
  {
   "cell_type": "markdown",
   "id": "06d907b0-4b49-43ea-b322-1fcc6d048d78",
   "metadata": {},
   "source": [
    "<img src=\"lesson_pages/0.png\">"
   ]
  },
  {
   "cell_type": "markdown",
   "id": "945f1381-4496-4939-b26d-4faf33b4602c",
   "metadata": {},
   "source": [
    "<img src=\"lesson_pages/1.png\">"
   ]
  },
  {
   "cell_type": "markdown",
   "id": "35abbc72-e599-405c-acf6-cebd614d5a71",
   "metadata": {},
   "source": [
    "<img src=\"lesson_pages/2.png\">"
   ]
  },
  {
   "cell_type": "markdown",
   "id": "8243049c-1fc9-4e07-943d-3e159de1ad9f",
   "metadata": {},
   "source": [
    "<img src=\"lesson_pages/3.png\">"
   ]
  },
  {
   "cell_type": "markdown",
   "id": "a80c48d1-3001-44ba-9d53-a10794a6eb3f",
   "metadata": {},
   "source": [
    "<img src=\"lesson_pages/4.png\">"
   ]
  },
  {
   "cell_type": "markdown",
   "id": "40711a25-9a4f-4b70-8d08-9626f17a4d05",
   "metadata": {},
   "source": [
    "<img src=\"lesson_pages/5.png\">"
   ]
  },
  {
   "cell_type": "markdown",
   "id": "96c64362-2071-4ae9-9ecd-f77a48f3e02f",
   "metadata": {},
   "source": [
    "# Example with Explicit Method"
   ]
  },
  {
   "cell_type": "markdown",
   "id": "4c274202-f4c6-48f1-a462-5771f99bdb83",
   "metadata": {},
   "source": [
    "* Create European Contract\n",
    "* Create Market Model\n",
    "* Create PDEParams\n",
    "* Create GenericPDEPricer\n",
    "* Calculate FV and Greeks based on Explicit method\n",
    "* Visualize the Call and Put prices in 2D and 3D"
   ]
  },
  {
   "cell_type": "code",
   "execution_count": null,
   "id": "a40b9098-5906-4395-8b46-b136f3f904cf",
   "metadata": {},
   "outputs": [],
   "source": [
    "params_exp = PDEParams(method = BSPDEMethod.EXPLICIT)\n",
    "PDE_price_exp = []\n",
    "PDE_pricers_exp=[]\n",
    "for i in range(len(derivative_type)): \n",
    "    # PDEpricer = \n",
    "    # fv = \n",
    "    # PDE_pricers_exp.append(PDEpricer)\n",
    "    # PDE_price_exp.append(fv)\n",
    "\n"
   ]
  },
  {
   "cell_type": "code",
   "execution_count": null,
   "id": "5e66d3a6-5dc5-4c9b-b298-d43053bdf139",
   "metadata": {},
   "outputs": [],
   "source": [
    "print(f\"PDE Explicit method FairValues:{PDE_price_exp}\")\n",
    "print(f\"Analytical method FairValues:{analytical_pricer_list}\")"
   ]
  },
  {
   "cell_type": "code",
   "execution_count": null,
   "id": "5ef1030b-a7bf-4917-a34e-bd5d7c81e30d",
   "metadata": {},
   "outputs": [],
   "source": [
    "Errors = [price1-price2 for price1, price2 in zip(analytical_pricer_list,PDE_price_exp)]\n",
    "print(f\"Error between the Analytical and PDE Explicit method FairValues:{Errors}\")"
   ]
  },
  {
   "cell_type": "code",
   "execution_count": null,
   "id": "f2688711-d0e8-4cef-aab5-3de9a3d0ad10",
   "metadata": {},
   "outputs": [],
   "source": [
    "und_step = PDE_pricers_exp[0].und_step\n",
    "time_step = PDE_pricers_exp[0].time_step\n",
    "s_min= PDE_pricers_exp[0].stock_min\n",
    "s_max=PDE_pricers_exp[0].stock_max\n",
    "sigma = PDE_pricers_exp[0]._bsPDE.sigma\n",
    "spot = PDE_pricers_exp[0]._initial_spot\n",
    "rate = PDE_pricers_exp[0]._bsPDE.interest_rate\n",
    "num_of_und_steps = PDE_pricers_exp[0]._bsPDE.num_of_und_steps"
   ]
  },
  {
   "cell_type": "code",
   "execution_count": null,
   "id": "fe74b9ff-e3e2-4c10-807f-a41b6cb2ccbf",
   "metadata": {},
   "outputs": [],
   "source": [
    "import matplotlib.pyplot as plt\n",
    "sol_exp = PDE_pricers_exp[0].grid[0,:]\n",
    "Spots = np.linspace(s_min, s_max, num_of_und_steps+1)\n",
    "\n",
    "%matplotlib inline\n",
    "plt.plot(Spots, sol_exp, \"x-\", label=\"Explicit\")\n",
    "plt.plot(Spots, black_scholes_eur_call(Spots, expiry, sigma, strike, rate), label=\"Analytical\")\n",
    "\n",
    "plt.xlim(0, s_max)\n",
    "plt.ylim(0,s_max)\n",
    "plt.legend()\n",
    "plt.show()"
   ]
  },
  {
   "cell_type": "markdown",
   "id": "1617f2f9",
   "metadata": {},
   "source": [
    "# Implicit Method"
   ]
  },
  {
   "cell_type": "markdown",
   "id": "81e02891-8df6-4e54-84dd-292cd7d3096a",
   "metadata": {},
   "source": [
    "<img src=\"lesson_pages/6.png\">"
   ]
  },
  {
   "cell_type": "markdown",
   "id": "93fe4e15-0385-4531-8e33-20a0f8c33f5a",
   "metadata": {},
   "source": [
    "<img src=\"lesson_pages/7.png\">"
   ]
  },
  {
   "cell_type": "markdown",
   "id": "d40dc689-12b5-4d0c-be37-1d2d7ae42c3f",
   "metadata": {},
   "source": [
    "<img src=\"lesson_pages/7.png\">"
   ]
  },
  {
   "cell_type": "markdown",
   "id": "01c1d758-ad4e-44cb-96f3-2d43ce005be9",
   "metadata": {},
   "source": [
    "<img src=\"lesson_pages/8.png\">"
   ]
  },
  {
   "cell_type": "markdown",
   "id": "97028202-7104-48eb-bd7a-3fdbb85875a6",
   "metadata": {},
   "source": [
    "# Example with Implicit Method"
   ]
  },
  {
   "cell_type": "markdown",
   "id": "34f3323e-43f8-4b31-8e34-565125a6f9b7",
   "metadata": {},
   "source": [
    "* Create European Contract\n",
    "* Create Market Model\n",
    "* Create PDEParams\n",
    "* Create GenericPDEPricer\n",
    "* Calculate FV and Greeks based on Implicit method\n",
    "* Visualize the Call and Put prices in 2D and 3D"
   ]
  },
  {
   "cell_type": "code",
   "execution_count": null,
   "id": "ee94b02a-5e1a-496a-9ee9-5ed7cd02874b",
   "metadata": {},
   "outputs": [],
   "source": [
    "param_imp = PDEParams(method = BSPDEMethod.IMPLICIT)\n",
    "PDE_imp_price = []\n",
    "PDEpricers_imp = []\n",
    "for i in range(len(derivative_type)): \n",
    "    # PDEpricer = \n",
    "    # fv = \n",
    "    # PDE_imp_price.append(fv)\n",
    "    # PDEpricers_imp.append(PDEpricer)"
   ]
  },
  {
   "cell_type": "code",
   "execution_count": null,
   "id": "411170b0-4540-4913-9aaf-489d06a9ae2a",
   "metadata": {},
   "outputs": [],
   "source": [
    "print(f\"PDE Implicit method FairValues:{PDE_imp_price}\")\n",
    "print(f\"Analytical method FairValues:{analytical_pricer_list}\")"
   ]
  },
  {
   "cell_type": "code",
   "execution_count": null,
   "id": "7445c8fe-f965-4d4f-9dc3-bde6b0cae5f6",
   "metadata": {},
   "outputs": [],
   "source": [
    "Errors_imp = [price1-price2 for price1, price2 in zip(analytical_pricer_list,PDE_imp_price)]\n",
    "print(f\"Error between the Analytical and PDE Explicit method FairValues:{Errors_imp}\")"
   ]
  },
  {
   "cell_type": "markdown",
   "id": "4371224c-6bd1-4c40-8afb-c72f246bf75e",
   "metadata": {},
   "source": [
    "# Compare Implicit Method with Analytical Pricer"
   ]
  },
  {
   "cell_type": "code",
   "execution_count": null,
   "id": "02775cbf-7849-4d9a-9909-6b5853b1ca80",
   "metadata": {},
   "outputs": [],
   "source": [
    "#TODO: Implement sol_imp \n",
    "\n",
    "# sol_imp \n",
    "\n",
    "\n",
    "%matplotlib inline\n",
    "plt.plot(Spots, sol_imp, \"x-\", label=\"Implicit\")\n",
    "plt.plot(Spots, black_scholes_eur_call(Spots, expiry, sigma, strike, rate), label=\"Analytical\")\n",
    "\n",
    "plt.xlim(0, s_max)\n",
    "plt.ylim(0,s_max)\n",
    "plt.legend()\n",
    "plt.show()"
   ]
  },
  {
   "cell_type": "markdown",
   "id": "c6d4b9b2-e550-4fea-8e1f-82124fbd6097",
   "metadata": {},
   "source": [
    "<img src=\"lesson_pages/9.png\">"
   ]
  },
  {
   "cell_type": "markdown",
   "id": "b2a73a1f-b2f9-44e8-b299-a68ec3d318ca",
   "metadata": {},
   "source": [
    "<img src=\"lesson_pages/10.png\">"
   ]
  },
  {
   "cell_type": "markdown",
   "id": "f587d6c1-61b8-4444-ae35-6f92a7fc1609",
   "metadata": {},
   "source": [
    "<img src=\"lesson_pages/11.png\">"
   ]
  },
  {
   "cell_type": "markdown",
   "id": "ecbba509-0dd5-40df-828a-ab35f4d4ee56",
   "metadata": {},
   "source": [
    "# Example with Crank Nicolson Method"
   ]
  },
  {
   "cell_type": "markdown",
   "id": "009ae7b3-a7d0-4253-a3d3-ba0c2af7533e",
   "metadata": {},
   "source": [
    "* Create European Contract\n",
    "* Create Market Model\n",
    "* Create PDEParams\n",
    "* Create GenericPDEPricer\n",
    "* Calculate FV and Greeks based on Crank_Nicolson methods\n",
    "* Visualize the Call and Put prices in 2D and 3D"
   ]
  },
  {
   "cell_type": "code",
   "execution_count": null,
   "id": "36cfbe69-b001-4168-927e-fdc534a790f9",
   "metadata": {},
   "outputs": [],
   "source": [
    "param_crn = PDEParams(method = BSPDEMethod.CRANKNICOLSON)\n",
    "PDE_crn_price = []\n",
    "PDEPricers_crn =[]\n",
    "for i in range(len(derivative_type)): \n",
    "    PDEpricer = EuropeanPDEPricer(contract_list[i], model_types[i], param_crn)\n",
    "    # fv = PDEpricer.calc_fair_value()\n",
    "    # PDE_crn_price.append(fv)\n",
    "    # PDEPricers_crn.append(PDEpricer)"
   ]
  },
  {
   "cell_type": "code",
   "execution_count": null,
   "id": "4840e1b3-7e40-4023-87f0-960db42ee2d8",
   "metadata": {},
   "outputs": [],
   "source": [
    "print(f\"PDE Crank-Nicolson method FairValues:{PDE_crn_price}\")\n",
    "print(f\"Analytical method FairValues:{analytical_pricer_list}\")"
   ]
  },
  {
   "cell_type": "code",
   "execution_count": null,
   "id": "36a965f3-4a16-494c-b8b3-fa646f6d0adc",
   "metadata": {},
   "outputs": [],
   "source": [
    "Errors_crn = [price1-price2 for price1, price2 in zip(analytical_pricer_list,PDE_crn_price)]\n",
    "print(f\"Error between the Analytical and PDE Crank Nicolson method FairValues:{Errors_crn}\")"
   ]
  },
  {
   "cell_type": "code",
   "execution_count": null,
   "id": "bbba7613-88cc-476c-92dc-97125ab9195e",
   "metadata": {},
   "outputs": [],
   "source": [
    "#Implement \n",
    "sol_imp = PDEPricers_crn[0].grid[0,:]\n",
    "\n",
    "%matplotlib inline\n",
    "plt.plot(Spots, sol_imp, \"x-\", label=\"Crank Nicolson\")\n",
    "plt.plot(Spots, black_scholes_eur_call(Spots, expiry, sigma, strike, rate), label=\"Analytical\")\n",
    "\n",
    "plt.xlim(0, s_max)\n",
    "plt.ylim(0,s_max)\n",
    "plt.legend()\n",
    "plt.show()"
   ]
  },
  {
   "cell_type": "markdown",
   "id": "5413989b-a40a-4edd-8ca2-129234a66757",
   "metadata": {},
   "source": [
    "# Conclusion"
   ]
  },
  {
   "cell_type": "markdown",
   "id": "60f3a0b7-1a29-40db-833d-c3b67a17cd02",
   "metadata": {},
   "source": [
    "* We have seen the implemention of European Call/Put options pricing via PDE methods\n",
    "* Which method is faster?\n",
    "\n",
    "<b> Project Ideas <b>\n",
    "\n",
    "* Implement Forward pricing on the Grid\n",
    "* Complexity: Can you price American Option with this?"
   ]
  },
  {
   "cell_type": "code",
   "execution_count": null,
   "id": "05017503-ce1b-4176-9fcf-8fbda24a4c90",
   "metadata": {},
   "outputs": [],
   "source": []
  }
 ],
 "metadata": {
  "kernelspec": {
   "display_name": "Python 3 (ipykernel)",
   "language": "python",
   "name": "python3"
  },
  "language_info": {
   "codemirror_mode": {
    "name": "ipython",
    "version": 3
   },
   "file_extension": ".py",
   "mimetype": "text/x-python",
   "name": "python",
   "nbconvert_exporter": "python",
   "pygments_lexer": "ipython3",
   "version": "3.9.7"
  }
 },
 "nbformat": 4,
 "nbformat_minor": 5
}
